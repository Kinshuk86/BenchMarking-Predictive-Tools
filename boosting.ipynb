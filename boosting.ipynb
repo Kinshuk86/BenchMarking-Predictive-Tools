{
 "cells": [
  {
   "cell_type": "code",
   "execution_count": 9,
   "metadata": {
    "collapsed": true
   },
   "outputs": [],
   "source": [
    "import numpy as np\n",
    "import pandas as pd\n",
    "from sklearn.ensemble import AdaBoostClassifier\n",
    "from sklearn.ensemble import GradientBoostingClassifier\n",
    "from sklearn import metrics"
   ]
  },
  {
   "cell_type": "code",
   "execution_count": 10,
   "metadata": {
    "collapsed": true
   },
   "outputs": [],
   "source": [
    "d_train = pd.read_csv(\"train-1m.csv\")\n",
    "d_test = pd.read_csv(\"test.csv\")\n",
    "d_train_test = d_train.append(d_test)"
   ]
  },
  {
   "cell_type": "code",
   "execution_count": 11,
   "metadata": {
    "collapsed": true
   },
   "outputs": [],
   "source": [
    "vars_cat = [\"Month\",\"DayofMonth\",\"DayOfWeek\",\"UniqueCarrier\", \"Origin\", \"Dest\"]\n",
    "vars_num = [\"DepTime\",\"Distance\"]"
   ]
  },
  {
   "cell_type": "code",
   "execution_count": 12,
   "metadata": {
    "collapsed": true
   },
   "outputs": [],
   "source": [
    "def my_get_dummies(d, col):\n",
    "    dd = pd.get_dummies(d.ix[:, col])\n",
    "    dd.columns = [col + \"_%s\" % c for c in dd.columns]\n",
    "    return(dd)"
   ]
  },
  {
   "cell_type": "code",
   "execution_count": 13,
   "metadata": {
    "collapsed": false
   },
   "outputs": [
    {
     "name": "stdout",
     "output_type": "stream",
     "text": [
      "CPU times: user 6.15 s, sys: 680 ms, total: 6.83 s\n",
      "Wall time: 6.91 s\n"
     ]
    }
   ],
   "source": [
    "%time X_train_test_cat = pd.concat([my_get_dummies(d_train_test, col) for col in vars_cat], axis = 1)\n",
    "X_train_test = pd.concat([X_train_test_cat, d_train_test.ix[:,vars_num]], axis = 1)\n",
    "y_train_test = np.where(d_train_test[\"dep_delayed_15min\"]==\"Y\", 1, 0)"
   ]
  },
  {
   "cell_type": "code",
   "execution_count": 14,
   "metadata": {
    "collapsed": true
   },
   "outputs": [],
   "source": [
    "X_train = X_train_test[0:d_train.shape[0]]\n",
    "y_train = y_train_test[0:d_train.shape[0]]\n",
    "X_test = X_train_test[d_train.shape[0]:]\n",
    "y_test = y_train_test[d_train.shape[0]:]"
   ]
  },
  {
   "cell_type": "code",
   "execution_count": null,
   "metadata": {
    "collapsed": false
   },
   "outputs": [],
   "source": [
    "md = GradientBoostingClassifier(n_estimators = 1000, \n",
    "         learning_rate = 0.01, max_depth = 16, subsample = 0.5)\n",
    "%time md.fit(X_train, y_train)"
   ]
  },
  {
   "cell_type": "code",
   "execution_count": 8,
   "metadata": {
    "collapsed": false
   },
   "outputs": [
    {
     "name": "stdout",
     "output_type": "stream",
     "text": [
      "CPU times: user 14.8 s, sys: 425 ms, total: 15.2 s\n",
      "Wall time: 15.4 s\n"
     ]
    },
    {
     "data": {
      "text/plain": [
       "0.72668933471206509"
      ]
     },
     "execution_count": 8,
     "metadata": {},
     "output_type": "execute_result"
    }
   ],
   "source": [
    "%time phat = md.predict_proba(X_test)[:,1]\n",
    "metrics.roc_auc_score(y_test, phat)"
   ]
  },
  {
   "cell_type": "code",
   "execution_count": null,
   "metadata": {
    "collapsed": true
   },
   "outputs": [],
   "source": []
  }
 ],
 "metadata": {
  "kernelspec": {
   "display_name": "Python [conda root]",
   "language": "python",
   "name": "conda-root-py"
  },
  "language_info": {
   "codemirror_mode": {
    "name": "ipython",
    "version": 3
   },
   "file_extension": ".py",
   "mimetype": "text/x-python",
   "name": "python",
   "nbconvert_exporter": "python",
   "pygments_lexer": "ipython3",
   "version": "3.5.2"
  }
 },
 "nbformat": 4,
 "nbformat_minor": 2
}
